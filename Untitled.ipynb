{
 "cells": [
  {
   "cell_type": "markdown",
   "id": "0ffbfbe2",
   "metadata": {},
   "source": [
    "\\begin{multline*}\n",
    "    = exp(-\\frac{1}{2}(\\tau + n\\phi)(\\theta^{2} - \\frac{1}{\\tau + n\\phi}(\\frac{2\\theta\\theta_{0}\\tau(\\tau + n\\phi) + (\\tau + n\\phi)(2\\theta\\phi\\sum_{i = 1}^{n}x_{i}) - \\tau\\theta_{0}^{2} - 2\\tau\\theta_{0}\\phi\\sum_{i = 1}^{n}x_{i} - (\\phi\\sum_{i = 1}^{n}x_{i})^{2}}{\\tau + n\\phi})))\n",
    "\\end{multline*}\n",
    "\n",
    "\\begin{multline*}\n",
    "    = exp(-\\frac{1}{2}(\\tau + n\\phi)(\\theta^{2} - \\frac{1}{\\tau + n\\phi}(2\\theta\\tau\\theta_{0} + 2\\theta\\phi\\sum_{i = 1}^{n} x_{i} - \\frac{\\tau\\theta_{0}}{\\tau + n\\phi} - \\frac{2\\tau\\theta_{0}\\phi\\sum_{i = 1}^{n}x_{i}}{\\tau + n\\phi} - \\frac{(\\phi\\sum_{i = 1}^{n}x_{i})^{2}}{\\tau + n\\phi}))   \n",
    "\\end{multline*}\n",
    "\n",
    "\\begin{multline*}\n",
    "    = exp(-\\frac{1}{2}(\\tau + n\\phi)(\\theta^{2} - \\frac{2\\theta\\tau\\theta_{0}}{\\tau + n\\phi} - \\frac{2\\theta\\phi \\sum_{i = 1}^{n} x_{i}}{\\tau + n\\phi} + \\frac{1}{(\\tau + n\\phi)^{2}}((\\tau \\theta_{0})^{2} + 2\\tau\\theta_{0}\\phi\\sum_{i = 1}^{n}x_{i} + (\\phi\\sum_{i = 1}^{n} x_{i})^{2})))\n",
    "\\end{multline*}\n",
    "\n",
    "\\begin{multline*}\n",
    "    = exp(-\\frac{1}{2}(\\tau + n\\phi)(\\theta^{2} - \\frac{2\\theta}{\\tau + n\\phi}(\\tau\\theta_{0} + \\phi \\sum_{i = 1}^{n} x_{i}) + \\frac{1}{(\\tau + n\\phi)^{2}}((\\tau \\theta_{0})^{2} + 2\\tau\\theta_{0}\\phi\\sum_{i = 1}^{n}x_{i} + (\\phi\\sum_{i = 1}^{n} x_{i})^{2})))\n",
    "\\end{multline*}\n",
    "\n",
    "\\begin{multline*}\n",
    "    = exp(-\\frac{1}{2}(\\tau + n\\phi)(\\theta^{2} - \\frac{2\\theta}{\\tau + n\\phi}(\\tau\\theta_{0} + \\phi \\sum_{i = 1}^{n} x_{i}) + \\bigr[\\frac{1}{\\tau + n\\phi}(\\tau \\theta_{0} + \\phi \\sum_{i = 1}^{n} x_{i})\\bigr]^{2}))\n",
    "\\end{multline*}\n",
    "\n",
    "\\begin{multline*}\n",
    "    = exp(-\\frac{1}{2}(\\tau + n\\phi)\\bigr[\\theta - \\frac{1}{\\tau + n\\phi}(\\tau\\theta_{0} + \\phi \\sum_{i = 1}^{n} x_{i})\\bigr]^{2}) \\quad \\text{(by factoring)}\n",
    "\\end{multline*}"
   ]
  }
 ],
 "metadata": {
  "kernelspec": {
   "display_name": "Python 3 (ipykernel)",
   "language": "python",
   "name": "python3"
  },
  "language_info": {
   "codemirror_mode": {
    "name": "ipython",
    "version": 3
   },
   "file_extension": ".py",
   "mimetype": "text/x-python",
   "name": "python",
   "nbconvert_exporter": "python",
   "pygments_lexer": "ipython3",
   "version": "3.11.6"
  }
 },
 "nbformat": 4,
 "nbformat_minor": 5
}
