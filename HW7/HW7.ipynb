{
 "cells": [
  {
   "cell_type": "markdown",
   "id": "848fecbf",
   "metadata": {},
   "source": [
    "### HW7\n",
    "\n",
    "#### Author: Seo Won Yi\n",
    "\n",
    "#### Collaborator: Serena Ban\n",
    "\n",
    "#### Posterior Predictive Distributions and Missing Data Imputation\n",
    "\n",
    "1. Describe how the posterior predictive distribution is created for mixture models.\n",
    "\n",
    "The posterior predictive distribution is made by using the samples gained from the posterior distributions we computed using MCMC. That is, using the posterior distributions of the parameters for mean and variance, we can simulate samples from the normal distribution. Then, we can also sample the weights from the posterior distribution as well. By computing the multiplication and summing them up, we can generate a prediction for our outcome variable. We repeat this step a number of times to generate uncertainty.\n",
    "\n",
    "2. Describe how the posterior predictive distribution is created in general.\n",
    "\n",
    "In general, we can think that by sampling from the posterior distributions of the parameters, we can effectively model the posterior distribution of the outcome variable. By sampling from this distribution, we can obtain our desired result. Now, we repeat these a numerous times to account for uncertainty.\n",
    "\n",
    "3. Have glance through this and then describe how, if you were doing a regression of  𝑦 on  𝑋 but  𝑋 had some missing values, you could perform a Bayesian analysis without throwing away the rows with missing values in  𝑋\n",
    "\n",
    "\n",
    "Generally, we can use the posterior predictive distribution to predict the values of the missing values. Or even better, if we know correlation between any predictors, we can use those predictors to generate missing values and use them to generate the posterior distribution."
   ]
  }
 ],
 "metadata": {
  "kernelspec": {
   "display_name": "Python 3 (ipykernel)",
   "language": "python",
   "name": "python3"
  },
  "language_info": {
   "codemirror_mode": {
    "name": "ipython",
    "version": 3
   },
   "file_extension": ".py",
   "mimetype": "text/x-python",
   "name": "python",
   "nbconvert_exporter": "python",
   "pygments_lexer": "ipython3",
   "version": "3.11.6"
  }
 },
 "nbformat": 4,
 "nbformat_minor": 5
}
